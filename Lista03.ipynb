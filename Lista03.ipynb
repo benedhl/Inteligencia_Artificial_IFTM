{
  "nbformat": 4,
  "nbformat_minor": 0,
  "metadata": {
    "colab": {
      "name": "Lista03.ipynb",
      "provenance": [],
      "collapsed_sections": [],
      "authorship_tag": "ABX9TyPj3shdXRAb0tSro0zmTKwe",
      "include_colab_link": true
    },
    "kernelspec": {
      "name": "python3",
      "display_name": "Python 3"
    },
    "language_info": {
      "name": "python"
    }
  },
  "cells": [
    {
      "cell_type": "markdown",
      "metadata": {
        "id": "view-in-github",
        "colab_type": "text"
      },
      "source": [
        "<a href=\"https://colab.research.google.com/github/benedhl/Inteligencia_Artificial_IFTM/blob/main/Lista03.ipynb\" target=\"_parent\"><img src=\"https://colab.research.google.com/assets/colab-badge.svg\" alt=\"Open In Colab\"/></a>"
      ]
    },
    {
      "cell_type": "code",
      "metadata": {
        "colab": {
          "base_uri": "https://localhost:8080/"
        },
        "id": "5DAQIpbjTxM8",
        "outputId": "8f1c7f66-110f-47ca-aa18-6bf7216ec9f6"
      },
      "source": [
        "!pip install imdbpy"
      ],
      "execution_count": 13,
      "outputs": [
        {
          "output_type": "stream",
          "name": "stdout",
          "text": [
            "Requirement already satisfied: imdbpy in /usr/local/lib/python3.7/dist-packages (2021.4.18)\n",
            "Requirement already satisfied: SQLAlchemy in /usr/local/lib/python3.7/dist-packages (from imdbpy) (1.4.22)\n",
            "Requirement already satisfied: lxml in /usr/local/lib/python3.7/dist-packages (from imdbpy) (4.2.6)\n",
            "Requirement already satisfied: importlib-metadata in /usr/local/lib/python3.7/dist-packages (from SQLAlchemy->imdbpy) (4.6.4)\n",
            "Requirement already satisfied: greenlet!=0.4.17 in /usr/local/lib/python3.7/dist-packages (from SQLAlchemy->imdbpy) (1.1.1)\n",
            "Requirement already satisfied: typing-extensions>=3.6.4 in /usr/local/lib/python3.7/dist-packages (from importlib-metadata->SQLAlchemy->imdbpy) (3.7.4.3)\n",
            "Requirement already satisfied: zipp>=0.5 in /usr/local/lib/python3.7/dist-packages (from importlib-metadata->SQLAlchemy->imdbpy) (3.5.0)\n"
          ]
        }
      ]
    },
    {
      "cell_type": "code",
      "metadata": {
        "id": "GoZj4-brkFox"
      },
      "source": [
        "ia = IMDb()"
      ],
      "execution_count": 14,
      "outputs": []
    },
    {
      "cell_type": "code",
      "metadata": {
        "id": "_6jLTjTokIeo"
      },
      "source": [
        "#@title Selecione uma colaboração entre 2 artistas\n",
        "\n",
        "artista1 = 'Cate blanchett' #@param {type: \"string\"}\n",
        "artista2 = 'Chris Hemsworth' #@param {type: \"string\"}"
      ],
      "execution_count": 51,
      "outputs": []
    },
    {
      "cell_type": "code",
      "metadata": {
        "id": "owWH8DL-kPjB"
      },
      "source": [
        "#Coletando dados e em seguida o ID do artista 1\n",
        "infoArtista1 = ia.search_person(artista1) \n",
        "idArtista1 = infoArtista1[0].personID\n",
        "#Coletando dados e em seguida o ID do artista 2\n",
        "infoArtista2 = ia.search_person(artista2) \n",
        "idArtista2 = infoArtista2[0].personID\n",
        "\n",
        "#Coletando filmografia dos 2 artistas\n",
        "filmesArtista1 = ia.get_person(idArtista1)\n",
        "filmesArtista2 = ia.get_person(idArtista2)\n",
        "\n",
        "#funcao para comparar a filmografia e imprimir os dados em comum\n",
        "\n",
        "def imprimirFilmografia(listaArtista1,listaArtista2):\n",
        "\n",
        "  chave = \"actress\" if 'actress' in listaArtista1['filmography'].keys() else \"actor\"\n",
        "\n",
        "  for filmesArtista1 in listaArtista1['filmography'][chave]:\n",
        "    if(filmesArtista1 in listaArtista2):\n",
        "      print(filmesArtista1)\n"
      ],
      "execution_count": 52,
      "outputs": []
    },
    {
      "cell_type": "code",
      "metadata": {
        "colab": {
          "base_uri": "https://localhost:8080/"
        },
        "id": "P5kpEto1l36D",
        "outputId": "dede50dc-b522-4e02-abb3-d42f53526dd5"
      },
      "source": [
        "imprimirFilmografia(filmesArtista1,filmesArtista2)\n",
        "\n"
      ],
      "execution_count": 53,
      "outputs": [
        {
          "output_type": "stream",
          "name": "stdout",
          "text": [
            "James and the Giant Peach with Taika and Friends\n",
            "Thor: Ragnarok\n"
          ]
        }
      ]
    },
    {
      "cell_type": "code",
      "metadata": {
        "id": "1xROy0zknN1S"
      },
      "source": [
        ""
      ],
      "execution_count": null,
      "outputs": []
    }
  ]
}